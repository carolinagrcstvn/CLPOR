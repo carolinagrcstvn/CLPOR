{
 "cells": [
  {
   "cell_type": "markdown",
   "source": [
    "# <span style=\"color: purple\">PROBLEM MODEL\n",
    "\n",
    "\n",
    "\n",
    "First we need to identify our decision variables. As we are selling weapons, we have ($\\color{purple} {X_1= Swords$, $X_2= Spears}$).\n",
    "\n",
    "\n",
    "\n",
    "The **price** of each weapon is **40 credits for swords and 5 credits for spears**.\n",
    "As our objective is to maximize our revenue, hence our objective function is $\\color{purple} {Z=40X_1+5X_2}$\n",
    "\n",
    "Then we observe that each weapon can be made of different metals, we have Beskar, Tungsten and Titanium. If we check the first table we see how much each weapons weights depending on the metal they're made of.\n",
    "\n",
    "\n",
    "\n",
    "Then in the seconds table we appreciate the available amount of each metal. So we need to define the constraints that restrict the amount of metal needed to manufacture each weapon.\n",
    "\n",
    "\n",
    "\n",
    "For the Beskar: $$\\color{purple} {0,5X_1+X_2\\leq125}$$\n",
    "\n",
    "\n",
    "\n",
    "For the Tungsten: $$\\color{purple} {X_1+X_2\\leq225}$$\n",
    "\n",
    "\n",
    "\n",
    "For the Titanium: $$\\color{purple} {X_1+3X_2\\leq300}$$\n",
    "\n",
    "\n",
    "\n",
    "In addition the company **has already sold 100 units of swords**, so it is needed to manufacture at least that many.\n",
    "\n",
    "\n",
    "\n",
    "So the corresponding constraint is: $\\color{purple} {X_1\\geq100}$\n"
   ],
   "metadata": {
    "collapsed": false
   }
  },
  {
   "cell_type": "code",
   "execution_count": 17,
   "metadata": {
    "collapsed": true
   },
   "outputs": [
    {
     "data": {
      "text/plain": "<matplotlib.legend.Legend at 0x7fd8582007f0>"
     },
     "execution_count": 17,
     "metadata": {},
     "output_type": "execute_result"
    },
    {
     "data": {
      "text/plain": "<Figure size 432x288 with 1 Axes>",
      "image/png": "[encoded data removed]"
     },
     "metadata": {
      "needs_background": "light"
     },
     "output_type": "display_data"
    }
   ],
   "source": [
    "import numpy as np\n",
    "import matplotlib.pyplot as plt\n",
    "%matplotlib inline\n",
    "\n",
    "# Construct lines, x represents our decision variable x1 and y represents our decision variable x2\n",
    "# x > 0\n",
    "x = np.linspace(0, 300, 10000) #10000 numbers from 0 to 300\n",
    "\n",
    "# y1 represents the physical constraint 0.5x + y <= 125\n",
    "y1 = 125 -0.5*x\n",
    "\n",
    "# y2 represents the line of constraint x + y <= 225\n",
    "y2 = 225 -x\n",
    "\n",
    "# y3 represents the constraint x + 3y <= 300\n",
    "y3 = (300.0 - x)/3.0\n",
    "\n",
    "# x1 represents the constraint x >= 100\n",
    "x1 = 100\n",
    "\n",
    "#1. Make plot\n",
    "plt.plot(x, y1, label=r'$0.5x_{1}+x_{2} \\leq 125$', color= 'orchid') #y4\n",
    "plt.plot(x, y2, label=r'$x_{1}+x_{2} \\leq 225$', color= 'magenta') #y1\n",
    "plt.plot(x, y3, label=r'$x_{1} + 3x_{2} \\leq 300$', color= 'indigo') #y2y3\n",
    "plt.axvline(x1, label=r'$x_{1} \\geq 100$' ,color= 'pink')\n",
    "\n",
    "#2. Adjust axis\n",
    "plt.xlim((0, 250))\n",
    "plt.ylim((0, 250))\n",
    "plt.xlabel(r'$x_{1}$', color= 'purple')\n",
    "plt.ylabel(r'$x_{2}$', color= 'purple')\n",
    "\n",
    "#3. Fill feasible region\n",
    "y4=np.minimum(y1,y2)\n",
    "y5=np.minimum(y4,y3)\n",
    "plt.fill_betweenx(y5, x, x1, where=x>x1, color='thistle', alpha=0.5)\n",
    "\n",
    "#4. plot legend\n",
    "plt.legend(bbox_to_anchor=(1.05, 1), loc=2, borderaxespad=0.)"
   ]
  },
  {
   "cell_type": "markdown",
   "source": [
    "# CONCLUSION\n",
    "The feasible region (in thistle) contains all possible solutions to the objective function.\n",
    "\n",
    "Minimum and maximum of linear programming problems are found at the vertices of the feasible region. Therefore, the solution is the maximum of the objective function between the four vertices.\n",
    "\n",
    "The four corners are the intersections between the lines:\n",
    "\n",
    "### Intersection 1:\n",
    " $\\color{purple} {0,5*x_{1} +x_{2}\\leq125}$\n",
    "\n",
    "$\\color{purple} {x_{1}=250,x_{2}=125}$\n",
    "\n",
    "### Intersection 2:\n",
    "$\\color{purple} {x_{1}+x_{2}\\leq225}$\n",
    "\n",
    "$\\color{purple} {x_{1}=225,x_{2}=225}$\n",
    "\n",
    "### Intersection 3:\n",
    "\n",
    "$\\color{purple} {x_{1}+3*x_{2}\\leq300}$\n",
    "\n",
    "$\\color{purple} {x_{1}=300,x_{2}=100}$\n",
    "\n",
    "\n",
    "### Intersection 4:\n",
    "$\\color{purple} {x_{1}\\geq100}$\n",
    "\n",
    "$\\color{purple} {x_{1}=100}$\n",
    "\n",
    "\n",
    "Then, considering that the objective function is: $\\color{purple} {Z=40X_1+5X_2}$\n",
    "\n",
    "We can calculate $Z$ for each corner:\n",
    "\n",
    "Intersection 1: *$Z= 10625 $ credits*\n",
    "\n",
    "Intersection 2: *$Z= 10125 $ credits*\n",
    "\n",
    "Intersection 3: *$Z= 12500 $ credits*\n",
    "\n",
    "Intersection 4: *$Z= 4000 $ credits*\n",
    "\n",
    "And, as the result of $Z$ for the third intersection offers us the maximum value, we can conclude that the solution for this model is:\n",
    "\n",
    "*$\\color{purple} {X_{1}=300,X_{2}=100, Z= 12500 }$ $\\color{purple} {Credits}$*\n",
    "\n"
   ],
   "metadata": {
    "collapsed": false
   }
  }
 ],
 "metadata": {
  "kernelspec": {
   "display_name": "Python 3",
   "language": "python",
   "name": "python3"
  },
  "language_info": {
   "codemirror_mode": {
    "name": "ipython",
    "version": 2
   },
   "file_extension": ".py",
   "mimetype": "text/x-python",
   "name": "python",
   "nbconvert_exporter": "python",
   "pygments_lexer": "ipython2",
   "version": "2.7.6"
  }
 },
 "nbformat": 4,
 "nbformat_minor": 0
}